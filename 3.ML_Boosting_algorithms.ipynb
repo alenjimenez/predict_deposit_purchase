{
 "cells": [
  {
   "cell_type": "markdown",
   "id": "25001ad5",
   "metadata": {},
   "source": [
    "# <h1><left><ins>Making the right call: ML algorithms for predicting sells</ins></left></h1>"
   ]
  },
  {
   "cell_type": "markdown",
   "id": "642a2ab4",
   "metadata": {},
   "source": [
    "## Introduction: Motivation and Sections."
   ]
  },
  {
   "cell_type": "markdown",
   "id": "bb8a9d3d",
   "metadata": {},
   "source": [
    "The objective of the project is to find the model that best predicts the sell of a fixed-term deposit offered by a bank in telephone calls made to potential buyers."
   ]
  },
  {
   "cell_type": "markdown",
   "id": "154f3bdc",
   "metadata": {},
   "source": [
    "For that, I organize this notebook in the following sections:\n",
    "- 1. Train and Test samples.\n",
    "- 2. Preparation of the Train sample.\n",
    "- 3. Application of ML algorithms over the Train sample.\n",
    "- 4. Performance of ML algorithms using the Test sample.\n",
    "- 5. Conclusions.\n",
    "\n",
    "For comments, corrections and suggestions please contact me to jimenezalen@gmail.com"
   ]
  },
  {
   "cell_type": "markdown",
   "id": "66f519c4",
   "metadata": {},
   "source": [
    "Before beginning, let's import the libraries necessary for most of the work."
   ]
  },
  {
   "cell_type": "code",
   "execution_count": 1,
   "id": "7ac6b316",
   "metadata": {},
   "outputs": [],
   "source": [
    "import pandas as pd\n",
    "import numpy as np\n",
    "import seaborn as sns\n",
    "import matplotlib.pyplot as plt\n",
    "from sklearn.metrics import confusion_matrix, accuracy_score, recall_score, precision_score, \\\n",
    "f1_score, roc_curve, roc_auc_score, auc, classification_report\n",
    "import imblearn\n",
    "import warnings\n",
    "warnings.filterwarnings(action = 'ignore', category = UserWarning)"
   ]
  },
  {
   "cell_type": "markdown",
   "id": "29f6315c",
   "metadata": {},
   "source": [
    "## 1. Train and Test samples."
   ]
  },
  {
   "cell_type": "code",
   "execution_count": 2,
   "id": "3c24eb1c",
   "metadata": {},
   "outputs": [
    {
     "data": {
      "text/plain": [
       "(30360, 22)"
      ]
     },
     "execution_count": 2,
     "metadata": {},
     "output_type": "execute_result"
    }
   ],
   "source": [
    "# Import the databases\n",
    "\n",
    "data_0 = pd.read_csv(\"base_entrenamiento.csv\")\n",
    "\n",
    "# Number of rows and columns\n",
    "\n",
    "data_0.shape"
   ]
  },
  {
   "cell_type": "code",
   "execution_count": 3,
   "id": "88dca26a",
   "metadata": {},
   "outputs": [
    {
     "name": "stdout",
     "output_type": "stream",
     "text": [
      "<class 'pandas.core.frame.DataFrame'>\n",
      "RangeIndex: 30360 entries, 0 to 30359\n",
      "Data columns (total 22 columns):\n",
      " #   Column                Non-Null Count  Dtype  \n",
      "---  ------                --------------  -----  \n",
      " 0   housing               30360 non-null  int64  \n",
      " 1   loan                  30360 non-null  int64  \n",
      " 2   contact               30360 non-null  int64  \n",
      " 3   campaign              30360 non-null  int64  \n",
      " 4   emp.var.rate          30360 non-null  float64\n",
      " 5   cons.price.idx        30360 non-null  float64\n",
      " 6   cons.conf.idx         30360 non-null  float64\n",
      " 7   euribor3m             30360 non-null  float64\n",
      " 8   nr.employed           30360 non-null  float64\n",
      " 9   y                     30360 non-null  int64  \n",
      " 10  married               30360 non-null  int64  \n",
      " 11  month_cat             30360 non-null  int64  \n",
      " 12  age_cat_(34.0, 44.0]  30360 non-null  int64  \n",
      " 13  age_cat_(44.0, 69.0]  30360 non-null  int64  \n",
      " 14  job_cat_1             30360 non-null  int64  \n",
      " 15  job_cat_2             30360 non-null  int64  \n",
      " 16  education_cat_1       30360 non-null  int64  \n",
      " 17  education_cat_2       30360 non-null  int64  \n",
      " 18  day_of_week_2         30360 non-null  int64  \n",
      " 19  day_of_week_3         30360 non-null  int64  \n",
      " 20  day_of_week_4         30360 non-null  int64  \n",
      " 21  day_of_week_5         30360 non-null  int64  \n",
      "dtypes: float64(5), int64(17)\n",
      "memory usage: 5.1 MB\n"
     ]
    }
   ],
   "source": [
    "# Name and type of columns, as well as number of non-null rows\n",
    "\n",
    "data_0.info()"
   ]
  },
  {
   "cell_type": "code",
   "execution_count": 4,
   "id": "1d57b028",
   "metadata": {},
   "outputs": [],
   "source": [
    "# Change of certain feature names, so no error comes up at the time of model training\n",
    "\n",
    "col_rename = {'age_cat_(34.0, 44.0]':'age_cat_34_44',\n",
    "             'age_cat_(44.0, 69.0]':'age_cat_44_69'}\n",
    "\n",
    "data_0 = data_0.rename(columns = col_rename)"
   ]
  },
  {
   "cell_type": "code",
   "execution_count": 5,
   "id": "3e6d181d",
   "metadata": {},
   "outputs": [],
   "source": [
    "# Define the matrix of features, X, and the vector of the target, y\n",
    "\n",
    "X = data_0.drop('y', axis = 1)\n",
    "\n",
    "y = data_0['y']"
   ]
  },
  {
   "cell_type": "code",
   "execution_count": 6,
   "id": "d9e15a5c",
   "metadata": {},
   "outputs": [],
   "source": [
    "# Separate the observed units into units for training and units for testing\n",
    "\n",
    "from sklearn.model_selection import train_test_split\n",
    "\n",
    "X_train, X_test, y_train, y_test = train_test_split(X, y,\n",
    "                                                    random_state = 42,\n",
    "                                                    test_size = 0.30,\n",
    "                                                    stratify = y)"
   ]
  },
  {
   "cell_type": "code",
   "execution_count": 7,
   "id": "bcedf782",
   "metadata": {},
   "outputs": [],
   "source": [
    "# Let´s see the shape of the different objects just created"
   ]
  },
  {
   "cell_type": "code",
   "execution_count": 8,
   "id": "91f29d62",
   "metadata": {},
   "outputs": [
    {
     "data": {
      "text/plain": [
       "(21252, 21)"
      ]
     },
     "execution_count": 8,
     "metadata": {},
     "output_type": "execute_result"
    }
   ],
   "source": [
    "X_train.shape"
   ]
  },
  {
   "cell_type": "code",
   "execution_count": 9,
   "id": "8b658eec",
   "metadata": {},
   "outputs": [
    {
     "data": {
      "text/plain": [
       "(21252,)"
      ]
     },
     "execution_count": 9,
     "metadata": {},
     "output_type": "execute_result"
    }
   ],
   "source": [
    "y_train.shape"
   ]
  },
  {
   "cell_type": "code",
   "execution_count": 10,
   "id": "bde90a02",
   "metadata": {},
   "outputs": [
    {
     "data": {
      "text/plain": [
       "(9108, 21)"
      ]
     },
     "execution_count": 10,
     "metadata": {},
     "output_type": "execute_result"
    }
   ],
   "source": [
    "X_test.shape"
   ]
  },
  {
   "cell_type": "code",
   "execution_count": 11,
   "id": "31303b7c",
   "metadata": {},
   "outputs": [
    {
     "data": {
      "text/plain": [
       "(9108,)"
      ]
     },
     "execution_count": 11,
     "metadata": {},
     "output_type": "execute_result"
    }
   ],
   "source": [
    "y_test.shape"
   ]
  },
  {
   "cell_type": "markdown",
   "id": "34c51f92",
   "metadata": {},
   "source": [
    "## 2. Preparation of the Train sample."
   ]
  },
  {
   "cell_type": "code",
   "execution_count": 12,
   "id": "2e78edb5",
   "metadata": {},
   "outputs": [
    {
     "name": "stderr",
     "output_type": "stream",
     "text": [
      "<ipython-input-12-5bbf3bc3aac7>:10: SettingWithCopyWarning: \n",
      "A value is trying to be set on a copy of a slice from a DataFrame.\n",
      "Try using .loc[row_indexer,col_indexer] = value instead\n",
      "\n",
      "See the caveats in the documentation: https://pandas.pydata.org/pandas-docs/stable/user_guide/indexing.html#returning-a-view-versus-a-copy\n",
      "  X_train[variables_continuas] = sd.fit_transform(X_train[variables_continuas])\n",
      "C:\\Users\\aj\\anaconda3\\envs\\dhdsblend2021\\lib\\site-packages\\pandas\\core\\indexing.py:1734: SettingWithCopyWarning: \n",
      "A value is trying to be set on a copy of a slice from a DataFrame.\n",
      "Try using .loc[row_indexer,col_indexer] = value instead\n",
      "\n",
      "See the caveats in the documentation: https://pandas.pydata.org/pandas-docs/stable/user_guide/indexing.html#returning-a-view-versus-a-copy\n",
      "  isetter(loc, value[:, i].tolist())\n"
     ]
    }
   ],
   "source": [
    "# We standardize the continuous features of the training and testing set\n",
    "\n",
    "from sklearn.preprocessing import StandardScaler\n",
    "\n",
    "sd = StandardScaler()\n",
    "\n",
    "variables_continuas = ['campaign', 'emp.var.rate', 'cons.price.idx', 'cons.conf.idx', 'euribor3m',\n",
    "                       'nr.employed']\n",
    "\n",
    "X_train[variables_continuas] = sd.fit_transform(X_train[variables_continuas])"
   ]
  },
  {
   "cell_type": "code",
   "execution_count": 13,
   "id": "acbf89b0",
   "metadata": {},
   "outputs": [
    {
     "name": "stderr",
     "output_type": "stream",
     "text": [
      "<ipython-input-13-5bc748b86165>:1: SettingWithCopyWarning: \n",
      "A value is trying to be set on a copy of a slice from a DataFrame.\n",
      "Try using .loc[row_indexer,col_indexer] = value instead\n",
      "\n",
      "See the caveats in the documentation: https://pandas.pydata.org/pandas-docs/stable/user_guide/indexing.html#returning-a-view-versus-a-copy\n",
      "  X_test[variables_continuas] = sd.transform(X_test[variables_continuas])\n",
      "C:\\Users\\aj\\anaconda3\\envs\\dhdsblend2021\\lib\\site-packages\\pandas\\core\\indexing.py:1734: SettingWithCopyWarning: \n",
      "A value is trying to be set on a copy of a slice from a DataFrame.\n",
      "Try using .loc[row_indexer,col_indexer] = value instead\n",
      "\n",
      "See the caveats in the documentation: https://pandas.pydata.org/pandas-docs/stable/user_guide/indexing.html#returning-a-view-versus-a-copy\n",
      "  isetter(loc, value[:, i].tolist())\n"
     ]
    }
   ],
   "source": [
    "X_test[variables_continuas] = sd.transform(X_test[variables_continuas])"
   ]
  },
  {
   "cell_type": "code",
   "execution_count": 14,
   "id": "6810bd51",
   "metadata": {},
   "outputs": [
    {
     "name": "stdout",
     "output_type": "stream",
     "text": [
      "0    0.945487\n",
      "1    0.054513\n",
      "Name: y, dtype: float64\n",
      "0    0.945464\n",
      "1    0.054536\n",
      "Name: y, dtype: float64\n",
      "0    0.945542\n",
      "1    0.054458\n",
      "Name: y, dtype: float64\n"
     ]
    }
   ],
   "source": [
    "# We observe the distribution of the target variable\n",
    "\n",
    "print(y.value_counts(normalize = True))\n",
    "\n",
    "print(y_train.value_counts(normalize = True))\n",
    "\n",
    "print(y_test.value_counts(normalize = True))"
   ]
  },
  {
   "cell_type": "code",
   "execution_count": 15,
   "id": "1e433cb5",
   "metadata": {},
   "outputs": [],
   "source": [
    "# Unbalanced classes: we apply oversampling on the training set\n",
    "\n",
    "from imblearn.over_sampling import RandomOverSampler\n",
    "\n",
    "ros = RandomOverSampler(sampling_strategy = 'minority')\n",
    "\n",
    "X_train_os, y_train_os = ros.fit_sample(X_train, y_train)"
   ]
  },
  {
   "cell_type": "code",
   "execution_count": 16,
   "id": "54dd977c",
   "metadata": {},
   "outputs": [
    {
     "data": {
      "text/plain": [
       "(40186,)"
      ]
     },
     "execution_count": 16,
     "metadata": {},
     "output_type": "execute_result"
    }
   ],
   "source": [
    "y_train_os.shape"
   ]
  },
  {
   "cell_type": "code",
   "execution_count": 17,
   "id": "8eec2e11",
   "metadata": {},
   "outputs": [
    {
     "name": "stdout",
     "output_type": "stream",
     "text": [
      "1    0.5\n",
      "0    0.5\n",
      "Name: y, dtype: float64\n"
     ]
    }
   ],
   "source": [
    "print(y_train_os.value_counts(normalize = True))"
   ]
  },
  {
   "cell_type": "markdown",
   "id": "568f709c",
   "metadata": {},
   "source": [
    "## 3. Application of ML algorithms over the Train sample."
   ]
  },
  {
   "cell_type": "markdown",
   "id": "ed67ea1e",
   "metadata": {},
   "source": [
    "I present the training of three ML algorithms:\n",
    "- XGBoosting\n",
    "- LightGBM \n",
    "- Catboost"
   ]
  },
  {
   "cell_type": "markdown",
   "id": "0f566e0a",
   "metadata": {},
   "source": [
    "I will use GridSearchCV to find the best hyperparameters´ values usign cross-validation."
   ]
  },
  {
   "cell_type": "code",
   "execution_count": 18,
   "id": "3fd22a5d",
   "metadata": {},
   "outputs": [],
   "source": [
    "from sklearn.model_selection import cross_val_score, StratifiedKFold\n",
    "\n",
    "cv = StratifiedKFold(n_splits = 5,\n",
    "                     random_state = 41,\n",
    "                     shuffle = True)"
   ]
  },
  {
   "cell_type": "markdown",
   "id": "93ddb74c",
   "metadata": {},
   "source": [
    "### 3.1 XGBoosting."
   ]
  },
  {
   "cell_type": "code",
   "execution_count": 19,
   "id": "54133227",
   "metadata": {},
   "outputs": [],
   "source": [
    "# Loading of XGBClassifier\n",
    "\n",
    "from xgboost.sklearn import XGBClassifier\n",
    "\n",
    "# Instance of algorith\n",
    "\n",
    "xgbc = XGBClassifier(n_jobs = -1,\n",
    "                     use_label_encoder = False)"
   ]
  },
  {
   "cell_type": "code",
   "execution_count": 20,
   "id": "e1ed8a37",
   "metadata": {},
   "outputs": [],
   "source": [
    "# Loading of GridSearchCV\n",
    "\n",
    "from sklearn.model_selection import GridSearchCV\n",
    "\n",
    "# Definition of hyperparameters dictionary\n",
    "\n",
    "params = {  \n",
    "    \"n_estimators\": [50,100,500],      # Number of boosted trees to fit.\n",
    "    \"max_depth\": [1,2,3,4],            # Maximum tree depth for base learners.\n",
    "    \"learning_rate\": [0.01, 0.1]      # Boosting learning rate (xgb’s “eta”)\n",
    "}\n",
    "\n",
    "# Instance of GridSearchCV\n",
    "\n",
    "gscv_xgbc = GridSearchCV(xgbc,\n",
    "                         param_grid = params,\n",
    "                         cv = cv,\n",
    "                         verbose = 1,\n",
    "                         n_jobs = -1)"
   ]
  },
  {
   "cell_type": "code",
   "execution_count": 21,
   "id": "e1eea0f6",
   "metadata": {},
   "outputs": [
    {
     "name": "stdout",
     "output_type": "stream",
     "text": [
      "Fitting 5 folds for each of 24 candidates, totalling 120 fits\n"
     ]
    },
    {
     "name": "stderr",
     "output_type": "stream",
     "text": [
      "[Parallel(n_jobs=-1)]: Using backend LokyBackend with 4 concurrent workers.\n",
      "[Parallel(n_jobs=-1)]: Done  42 tasks      | elapsed:  1.3min\n",
      "[Parallel(n_jobs=-1)]: Done 120 out of 120 | elapsed:  4.3min finished\n"
     ]
    },
    {
     "name": "stdout",
     "output_type": "stream",
     "text": [
      "[13:28:06] WARNING: C:/Users/Administrator/workspace/xgboost-win64_release_1.4.0/src/learner.cc:1095: Starting in XGBoost 1.3.0, the default evaluation metric used with the objective 'binary:logistic' was changed from 'error' to 'logloss'. Explicitly set eval_metric if you'd like to restore the old behavior.\n"
     ]
    },
    {
     "data": {
      "text/plain": [
       "GridSearchCV(cv=StratifiedKFold(n_splits=5, random_state=41, shuffle=True),\n",
       "             estimator=XGBClassifier(base_score=None, booster=None,\n",
       "                                     colsample_bylevel=None,\n",
       "                                     colsample_bynode=None,\n",
       "                                     colsample_bytree=None, gamma=None,\n",
       "                                     gpu_id=None, importance_type='gain',\n",
       "                                     interaction_constraints=None,\n",
       "                                     learning_rate=None, max_delta_step=None,\n",
       "                                     max_depth=None, min_child_weight=None,\n",
       "                                     missin...tone_constraints=None,\n",
       "                                     n_estimators=100, n_jobs=-1,\n",
       "                                     num_parallel_tree=None, random_state=None,\n",
       "                                     reg_alpha=None, reg_lambda=None,\n",
       "                                     scale_pos_weight=None, subsample=None,\n",
       "                                     tree_method=None, use_label_encoder=False,\n",
       "                                     validate_parameters=None, verbosity=None),\n",
       "             n_jobs=-1,\n",
       "             param_grid={'learning_rate': [0.01, 0.1],\n",
       "                         'max_depth': [1, 2, 3, 4],\n",
       "                         'n_estimators': [50, 100, 500]},\n",
       "             verbose=1)"
      ]
     },
     "execution_count": 21,
     "metadata": {},
     "output_type": "execute_result"
    }
   ],
   "source": [
    "# Training\n",
    "\n",
    "gscv_xgbc.fit(X_train_os, y_train_os)"
   ]
  },
  {
   "cell_type": "code",
   "execution_count": 22,
   "id": "e00719e9",
   "metadata": {},
   "outputs": [
    {
     "data": {
      "text/plain": [
       "{'learning_rate': 0.1, 'max_depth': 4, 'n_estimators': 500}"
      ]
     },
     "execution_count": 22,
     "metadata": {},
     "output_type": "execute_result"
    }
   ],
   "source": [
    "# See the values of hiperparameters in the training with best performance\n",
    "\n",
    "gscv_xgbc.best_params_"
   ]
  },
  {
   "cell_type": "code",
   "execution_count": 23,
   "id": "6bf45280",
   "metadata": {},
   "outputs": [],
   "source": [
    "# Predicted outcomes\n",
    "\n",
    "y_pred_xgbc = gscv_xgbc.predict(X_test) #binary\n",
    "\n",
    "y_proba_xgbc = gscv_xgbc.predict_proba(X_test) #probability"
   ]
  },
  {
   "cell_type": "markdown",
   "id": "62593390",
   "metadata": {},
   "source": [
    "### 3.2 LightGBM."
   ]
  },
  {
   "cell_type": "code",
   "execution_count": 24,
   "id": "6e8aab45",
   "metadata": {},
   "outputs": [],
   "source": [
    "# Loading of LGBMClassifier\n",
    "\n",
    "import lightgbm as lgb\n",
    "\n",
    "# Instance of algorith\n",
    "\n",
    "lgbmc = lgb.LGBMClassifier()"
   ]
  },
  {
   "cell_type": "code",
   "execution_count": 25,
   "id": "b7164c8e",
   "metadata": {},
   "outputs": [],
   "source": [
    "# Definition of hyperparameters dictionary\n",
    "\n",
    "params = {  \n",
    "    \"n_estimators\": [50,100,500],      # Number of boosted trees to fit.\n",
    "    \"max_depth\": [1,2,3,4],            # Maximum tree depth for base learners.\n",
    "    \"learning_rate\": [0.01, 0.1]      # Boosting learning rate (xgb’s “eta”)\n",
    "}\n",
    "\n",
    "# Instance of GridSearchCV\n",
    "\n",
    "gscv_lgbmc = GridSearchCV(lgbmc,\n",
    "                          param_grid = params,\n",
    "                          cv = cv,\n",
    "                          verbose = 1,\n",
    "                          n_jobs = -1)"
   ]
  },
  {
   "cell_type": "code",
   "execution_count": 26,
   "id": "ee3a2bd1",
   "metadata": {},
   "outputs": [
    {
     "name": "stdout",
     "output_type": "stream",
     "text": [
      "Fitting 5 folds for each of 24 candidates, totalling 120 fits\n"
     ]
    },
    {
     "name": "stderr",
     "output_type": "stream",
     "text": [
      "[Parallel(n_jobs=-1)]: Using backend LokyBackend with 4 concurrent workers.\n",
      "[Parallel(n_jobs=-1)]: Done  42 tasks      | elapsed:   14.5s\n",
      "[Parallel(n_jobs=-1)]: Done 120 out of 120 | elapsed:   45.4s finished\n"
     ]
    },
    {
     "data": {
      "text/plain": [
       "GridSearchCV(cv=StratifiedKFold(n_splits=5, random_state=41, shuffle=True),\n",
       "             estimator=LGBMClassifier(), n_jobs=-1,\n",
       "             param_grid={'learning_rate': [0.01, 0.1],\n",
       "                         'max_depth': [1, 2, 3, 4],\n",
       "                         'n_estimators': [50, 100, 500]},\n",
       "             verbose=1)"
      ]
     },
     "execution_count": 26,
     "metadata": {},
     "output_type": "execute_result"
    }
   ],
   "source": [
    "# Training\n",
    "\n",
    "gscv_lgbmc.fit(X_train_os, y_train_os)"
   ]
  },
  {
   "cell_type": "code",
   "execution_count": 27,
   "id": "6f2172cf",
   "metadata": {},
   "outputs": [
    {
     "data": {
      "text/plain": [
       "{'learning_rate': 0.1, 'max_depth': 4, 'n_estimators': 500}"
      ]
     },
     "execution_count": 27,
     "metadata": {},
     "output_type": "execute_result"
    }
   ],
   "source": [
    "# See the values of hiperparameters in the training with best performance\n",
    "\n",
    "gscv_lgbmc.best_params_"
   ]
  },
  {
   "cell_type": "code",
   "execution_count": 28,
   "id": "6a3327df",
   "metadata": {},
   "outputs": [],
   "source": [
    "# Predicted outcomes\n",
    "\n",
    "y_pred_lgbmc = gscv_lgbmc.predict(X_test) #binary\n",
    "\n",
    "y_proba_lgbmc = gscv_lgbmc.predict_proba(X_test) #probability"
   ]
  },
  {
   "cell_type": "markdown",
   "id": "1bf6e883",
   "metadata": {},
   "source": [
    "### 3.3 Catboost."
   ]
  },
  {
   "cell_type": "code",
   "execution_count": 29,
   "id": "afa37392",
   "metadata": {},
   "outputs": [],
   "source": [
    "# Loading of CatBoostClassifier\n",
    "\n",
    "from catboost import CatBoostClassifier\n",
    "\n",
    "# Instance of algorith\n",
    "\n",
    "cbc = CatBoostClassifier()"
   ]
  },
  {
   "cell_type": "code",
   "execution_count": 30,
   "id": "680d0697",
   "metadata": {},
   "outputs": [],
   "source": [
    "# Definition of hyperparameters dictionary\n",
    "\n",
    "params = {\n",
    "    'depth': [4,7,10],\n",
    "    'learning_rate': [0.01,0.1],\n",
    "    'iterations': [10,50,100]\n",
    "}\n",
    "\n",
    "# Instance of GridSearchCV\n",
    "\n",
    "gscv_cbc = GridSearchCV(cbc,\n",
    "                        param_grid = params,\n",
    "                        cv = cv,\n",
    "                        verbose = 1,\n",
    "                        n_jobs = -1)"
   ]
  },
  {
   "cell_type": "code",
   "execution_count": 31,
   "id": "e01413df",
   "metadata": {},
   "outputs": [
    {
     "name": "stdout",
     "output_type": "stream",
     "text": [
      "Fitting 5 folds for each of 18 candidates, totalling 90 fits\n"
     ]
    },
    {
     "name": "stderr",
     "output_type": "stream",
     "text": [
      "[Parallel(n_jobs=-1)]: Using backend LokyBackend with 4 concurrent workers.\n",
      "[Parallel(n_jobs=-1)]: Done  42 tasks      | elapsed:   48.3s\n",
      "[Parallel(n_jobs=-1)]: Done  90 out of  90 | elapsed:  2.9min finished\n"
     ]
    },
    {
     "name": "stdout",
     "output_type": "stream",
     "text": [
      "0:\tlearn: 0.6446382\ttotal: 178ms\tremaining: 17.7s\n",
      "1:\tlearn: 0.6083089\ttotal: 198ms\tremaining: 9.72s\n",
      "2:\tlearn: 0.5685131\ttotal: 299ms\tremaining: 9.66s\n",
      "3:\tlearn: 0.5383855\ttotal: 409ms\tremaining: 9.81s\n",
      "4:\tlearn: 0.5136255\ttotal: 544ms\tremaining: 10.3s\n",
      "5:\tlearn: 0.4958651\ttotal: 679ms\tremaining: 10.6s\n",
      "6:\tlearn: 0.4782657\ttotal: 815ms\tremaining: 10.8s\n",
      "7:\tlearn: 0.4600353\ttotal: 1.02s\tremaining: 11.7s\n",
      "8:\tlearn: 0.4470518\ttotal: 1.16s\tremaining: 11.8s\n",
      "9:\tlearn: 0.4361330\ttotal: 1.32s\tremaining: 11.9s\n",
      "10:\tlearn: 0.4277232\ttotal: 1.46s\tremaining: 11.8s\n",
      "11:\tlearn: 0.4185707\ttotal: 1.6s\tremaining: 11.8s\n",
      "12:\tlearn: 0.4129546\ttotal: 1.75s\tremaining: 11.7s\n",
      "13:\tlearn: 0.3991542\ttotal: 1.91s\tremaining: 11.7s\n",
      "14:\tlearn: 0.3887864\ttotal: 2.07s\tremaining: 11.7s\n",
      "15:\tlearn: 0.3807660\ttotal: 2.25s\tremaining: 11.8s\n",
      "16:\tlearn: 0.3745373\ttotal: 2.4s\tremaining: 11.7s\n",
      "17:\tlearn: 0.3639402\ttotal: 2.57s\tremaining: 11.7s\n",
      "18:\tlearn: 0.3557510\ttotal: 2.75s\tremaining: 11.7s\n",
      "19:\tlearn: 0.3503623\ttotal: 2.91s\tremaining: 11.6s\n",
      "20:\tlearn: 0.3445218\ttotal: 3.09s\tremaining: 11.6s\n",
      "21:\tlearn: 0.3391026\ttotal: 3.27s\tremaining: 11.6s\n",
      "22:\tlearn: 0.3350333\ttotal: 3.44s\tremaining: 11.5s\n",
      "23:\tlearn: 0.3332836\ttotal: 3.59s\tremaining: 11.4s\n",
      "24:\tlearn: 0.3259320\ttotal: 3.77s\tremaining: 11.3s\n",
      "25:\tlearn: 0.3226759\ttotal: 3.92s\tremaining: 11.1s\n",
      "26:\tlearn: 0.3206823\ttotal: 4.03s\tremaining: 10.9s\n",
      "27:\tlearn: 0.3157107\ttotal: 4.15s\tremaining: 10.7s\n",
      "28:\tlearn: 0.3102505\ttotal: 4.26s\tremaining: 10.4s\n",
      "29:\tlearn: 0.3053437\ttotal: 4.37s\tremaining: 10.2s\n",
      "30:\tlearn: 0.3019302\ttotal: 4.47s\tremaining: 9.95s\n",
      "31:\tlearn: 0.2986216\ttotal: 4.59s\tremaining: 9.75s\n",
      "32:\tlearn: 0.2949623\ttotal: 4.71s\tremaining: 9.57s\n",
      "33:\tlearn: 0.2922708\ttotal: 4.82s\tremaining: 9.35s\n",
      "34:\tlearn: 0.2894782\ttotal: 4.92s\tremaining: 9.13s\n",
      "35:\tlearn: 0.2826968\ttotal: 5s\tremaining: 8.89s\n",
      "36:\tlearn: 0.2796512\ttotal: 5.1s\tremaining: 8.69s\n",
      "37:\tlearn: 0.2768159\ttotal: 5.19s\tremaining: 8.47s\n",
      "38:\tlearn: 0.2735418\ttotal: 5.28s\tremaining: 8.25s\n",
      "39:\tlearn: 0.2700556\ttotal: 5.37s\tremaining: 8.05s\n",
      "40:\tlearn: 0.2661343\ttotal: 5.45s\tremaining: 7.84s\n",
      "41:\tlearn: 0.2652292\ttotal: 5.52s\tremaining: 7.62s\n",
      "42:\tlearn: 0.2632989\ttotal: 5.61s\tremaining: 7.44s\n",
      "43:\tlearn: 0.2607491\ttotal: 5.68s\tremaining: 7.24s\n",
      "44:\tlearn: 0.2581670\ttotal: 5.78s\tremaining: 7.06s\n",
      "45:\tlearn: 0.2538658\ttotal: 5.88s\tremaining: 6.91s\n",
      "46:\tlearn: 0.2519870\ttotal: 5.96s\tremaining: 6.72s\n",
      "47:\tlearn: 0.2512943\ttotal: 6.03s\tremaining: 6.53s\n",
      "48:\tlearn: 0.2490552\ttotal: 6.13s\tremaining: 6.38s\n",
      "49:\tlearn: 0.2488611\ttotal: 6.15s\tremaining: 6.15s\n",
      "50:\tlearn: 0.2465289\ttotal: 6.23s\tremaining: 5.99s\n",
      "51:\tlearn: 0.2449538\ttotal: 6.3s\tremaining: 5.82s\n",
      "52:\tlearn: 0.2438092\ttotal: 6.39s\tremaining: 5.66s\n",
      "53:\tlearn: 0.2430355\ttotal: 6.47s\tremaining: 5.51s\n",
      "54:\tlearn: 0.2420991\ttotal: 6.54s\tremaining: 5.35s\n",
      "55:\tlearn: 0.2389276\ttotal: 6.64s\tremaining: 5.22s\n",
      "56:\tlearn: 0.2363408\ttotal: 6.73s\tremaining: 5.08s\n",
      "57:\tlearn: 0.2343286\ttotal: 6.81s\tremaining: 4.93s\n",
      "58:\tlearn: 0.2323166\ttotal: 6.91s\tremaining: 4.8s\n",
      "59:\tlearn: 0.2299685\ttotal: 6.98s\tremaining: 4.66s\n",
      "60:\tlearn: 0.2275923\ttotal: 7.07s\tremaining: 4.52s\n",
      "61:\tlearn: 0.2260010\ttotal: 7.16s\tremaining: 4.39s\n",
      "62:\tlearn: 0.2242109\ttotal: 7.25s\tremaining: 4.26s\n",
      "63:\tlearn: 0.2227187\ttotal: 7.33s\tremaining: 4.12s\n",
      "64:\tlearn: 0.2207483\ttotal: 7.42s\tremaining: 4s\n",
      "65:\tlearn: 0.2187131\ttotal: 7.5s\tremaining: 3.86s\n",
      "66:\tlearn: 0.2168366\ttotal: 7.58s\tremaining: 3.73s\n",
      "67:\tlearn: 0.2154835\ttotal: 7.66s\tremaining: 3.6s\n",
      "68:\tlearn: 0.2147113\ttotal: 7.74s\tremaining: 3.48s\n",
      "69:\tlearn: 0.2131976\ttotal: 7.81s\tremaining: 3.35s\n",
      "70:\tlearn: 0.2131646\ttotal: 7.82s\tremaining: 3.2s\n",
      "71:\tlearn: 0.2122916\ttotal: 7.9s\tremaining: 3.07s\n",
      "72:\tlearn: 0.2103958\ttotal: 7.97s\tremaining: 2.95s\n",
      "73:\tlearn: 0.2095480\ttotal: 8.04s\tremaining: 2.82s\n",
      "74:\tlearn: 0.2083277\ttotal: 8.1s\tremaining: 2.7s\n",
      "75:\tlearn: 0.2073947\ttotal: 8.18s\tremaining: 2.58s\n",
      "76:\tlearn: 0.2061249\ttotal: 8.24s\tremaining: 2.46s\n",
      "77:\tlearn: 0.2051140\ttotal: 8.31s\tremaining: 2.34s\n",
      "78:\tlearn: 0.2048122\ttotal: 8.37s\tremaining: 2.22s\n",
      "79:\tlearn: 0.2037044\ttotal: 8.44s\tremaining: 2.11s\n",
      "80:\tlearn: 0.2030374\ttotal: 8.51s\tremaining: 2s\n",
      "81:\tlearn: 0.2018228\ttotal: 8.57s\tremaining: 1.88s\n",
      "82:\tlearn: 0.2009971\ttotal: 8.64s\tremaining: 1.77s\n",
      "83:\tlearn: 0.1991575\ttotal: 8.71s\tremaining: 1.66s\n",
      "84:\tlearn: 0.1973785\ttotal: 8.78s\tremaining: 1.55s\n",
      "85:\tlearn: 0.1953607\ttotal: 8.85s\tremaining: 1.44s\n",
      "86:\tlearn: 0.1936454\ttotal: 8.92s\tremaining: 1.33s\n",
      "87:\tlearn: 0.1918699\ttotal: 9s\tremaining: 1.23s\n",
      "88:\tlearn: 0.1906625\ttotal: 9.07s\tremaining: 1.12s\n",
      "89:\tlearn: 0.1890610\ttotal: 9.14s\tremaining: 1.01s\n",
      "90:\tlearn: 0.1877208\ttotal: 9.21s\tremaining: 911ms\n",
      "91:\tlearn: 0.1860430\ttotal: 9.29s\tremaining: 808ms\n",
      "92:\tlearn: 0.1847400\ttotal: 9.35s\tremaining: 704ms\n",
      "93:\tlearn: 0.1830814\ttotal: 9.42s\tremaining: 601ms\n",
      "94:\tlearn: 0.1820238\ttotal: 9.49s\tremaining: 499ms\n",
      "95:\tlearn: 0.1806548\ttotal: 9.56s\tremaining: 398ms\n",
      "96:\tlearn: 0.1798816\ttotal: 9.63s\tremaining: 298ms\n",
      "97:\tlearn: 0.1789296\ttotal: 9.7s\tremaining: 198ms\n",
      "98:\tlearn: 0.1772096\ttotal: 9.78s\tremaining: 98.8ms\n",
      "99:\tlearn: 0.1764070\ttotal: 9.85s\tremaining: 0us\n"
     ]
    },
    {
     "data": {
      "text/plain": [
       "GridSearchCV(cv=StratifiedKFold(n_splits=5, random_state=41, shuffle=True),\n",
       "             estimator=<catboost.core.CatBoostClassifier object at 0x0000022C29A86520>,\n",
       "             n_jobs=-1,\n",
       "             param_grid={'depth': [4, 7, 10], 'iterations': [10, 50, 100],\n",
       "                         'learning_rate': [0.01, 0.1]},\n",
       "             verbose=1)"
      ]
     },
     "execution_count": 31,
     "metadata": {},
     "output_type": "execute_result"
    }
   ],
   "source": [
    "# Training\n",
    "\n",
    "gscv_cbc.fit(X_train_os, y_train_os)"
   ]
  },
  {
   "cell_type": "code",
   "execution_count": 32,
   "id": "28c06287",
   "metadata": {},
   "outputs": [
    {
     "data": {
      "text/plain": [
       "{'depth': 10, 'iterations': 100, 'learning_rate': 0.1}"
      ]
     },
     "execution_count": 32,
     "metadata": {},
     "output_type": "execute_result"
    }
   ],
   "source": [
    "# See the values of hiperparameters in the training with best performance\n",
    "\n",
    "gscv_cbc.best_params_"
   ]
  },
  {
   "cell_type": "code",
   "execution_count": 33,
   "id": "bf09a9e8",
   "metadata": {},
   "outputs": [],
   "source": [
    "# Predicted outcomes\n",
    "\n",
    "y_pred_cbc = gscv_cbc.predict(X_test) #binary\n",
    "\n",
    "y_proba_cbc = gscv_cbc.predict_proba(X_test) #probability"
   ]
  },
  {
   "cell_type": "markdown",
   "id": "3d1c9789",
   "metadata": {},
   "source": [
    "## 4. Performance of ML algorithms using the Test sample."
   ]
  },
  {
   "cell_type": "markdown",
   "id": "d994855c",
   "metadata": {},
   "source": [
    "The objective of this section is to evaluate the performance of the three ML algorithms trained in Section 3."
   ]
  },
  {
   "cell_type": "markdown",
   "id": "7fd4118a",
   "metadata": {},
   "source": [
    "For that, I follow two principles to select appropiate evaluation metrics according to context:\n",
    "\n",
    "- **Principle of Cost Minimization**: The bank does not want to face the cost of reaching out to clients who will not buy their product.\n",
    "    - Evaluation Target: **Minimize the False Positive Rate**. Given that the client is not going to buy (y = 0), the banks wants to minimize the probability that the model will tell me that he/she is going to buy (ypred = 1).\n",
    "\n",
    "- **Principle of Income Maximization**:  The bank does not want to lose clients who are willing buy their product.\n",
    "    - Evaluation Target: **Maximize the Recall or True Positive Rate**. Given that the client is going to buy (y = 1), the banks wants to maximize the probability that the model tells me that he/she is going to buy (ypred = 1).\n",
    "\n",
    "These two principles and their corresponding metrics are represented by the ROC Curve."
   ]
  },
  {
   "cell_type": "markdown",
   "id": "24fd7ffc",
   "metadata": {},
   "source": [
    "### 4.1 XGBoosting."
   ]
  },
  {
   "cell_type": "code",
   "execution_count": 34,
   "id": "fff77f06",
   "metadata": {},
   "outputs": [
    {
     "name": "stdout",
     "output_type": "stream",
     "text": [
      "              precision    recall  f1-score   support\n",
      "\n",
      "           0       0.98      0.88      0.93      8612\n",
      "           1       0.24      0.66      0.35       496\n",
      "\n",
      "    accuracy                           0.87      9108\n",
      "   macro avg       0.61      0.77      0.64      9108\n",
      "weighted avg       0.94      0.87      0.89      9108\n",
      "\n"
     ]
    }
   ],
   "source": [
    "# Classification Report, with various performance indicators\n",
    "\n",
    "print(classification_report(y_test, y_pred_xgbc))"
   ]
  },
  {
   "cell_type": "code",
   "execution_count": 35,
   "id": "e6024948",
   "metadata": {},
   "outputs": [],
   "source": [
    "# We save certain indicators of interest for later \n",
    "\n",
    "precision_xgbc = precision_score(y_test, y_pred_xgbc) #precision score\n",
    "recall_xgbc = recall_score(y_test, y_pred_xgbc) #recall score or true positive rate\n",
    "cmat = confusion_matrix(y_test, y_pred_xgbc) #confusion matrix\n",
    "fpr_xgbc = 1-(cmat[0,0]/(cmat[0,0]+cmat[0,1])) #false positive rate"
   ]
  },
  {
   "cell_type": "code",
   "execution_count": 36,
   "id": "a4f29e39",
   "metadata": {},
   "outputs": [
    {
     "name": "stdout",
     "output_type": "stream",
     "text": [
      "Tha AUC value is:  0.83\n"
     ]
    }
   ],
   "source": [
    "# Area under the ROC curve\n",
    "\n",
    "auc_xgbc = roc_auc_score(y_test, pd.DataFrame(y_proba_xgbc)[1])\n",
    "\n",
    "print(\"Tha AUC value is: \", auc_xgbc.round(2))"
   ]
  },
  {
   "cell_type": "code",
   "execution_count": 37,
   "id": "973a95a7",
   "metadata": {},
   "outputs": [
    {
     "data": {
      "image/png": "[encoded data removed]",
      "text/plain": [
       "<Figure size 432x288 with 1 Axes>"
      ]
     },
     "metadata": {
      "needs_background": "light"
     },
     "output_type": "display_data"
    }
   ],
   "source": [
    "# ROC Curve\n",
    "\n",
    "from scikitplot.metrics import plot_roc\n",
    "\n",
    "plot_roc(y_test, y_proba_xgbc, plot_micro = False, plot_macro= False);"
   ]
  },
  {
   "cell_type": "markdown",
   "id": "ff21b148",
   "metadata": {},
   "source": [
    "### 4.2 LightGBM."
   ]
  },
  {
   "cell_type": "code",
   "execution_count": 38,
   "id": "a9169a8d",
   "metadata": {},
   "outputs": [
    {
     "name": "stdout",
     "output_type": "stream",
     "text": [
      "              precision    recall  f1-score   support\n",
      "\n",
      "           0       0.98      0.88      0.92      8612\n",
      "           1       0.24      0.68      0.35       496\n",
      "\n",
      "    accuracy                           0.87      9108\n",
      "   macro avg       0.61      0.78      0.64      9108\n",
      "weighted avg       0.94      0.87      0.89      9108\n",
      "\n"
     ]
    }
   ],
   "source": [
    "# Classification Report, with various performance indicators\n",
    "\n",
    "print(classification_report(y_test, y_pred_lgbmc))"
   ]
  },
  {
   "cell_type": "code",
   "execution_count": 39,
   "id": "84184498",
   "metadata": {},
   "outputs": [],
   "source": [
    "# We save certain indicators of interest for later \n",
    "\n",
    "precision_lgbmc = precision_score(y_test, y_pred_lgbmc) #precision score\n",
    "recall_lgbmc = recall_score(y_test, y_pred_lgbmc) #recall score or true positive rate\n",
    "cmat = confusion_matrix(y_test, y_pred_lgbmc) #confusion matrix\n",
    "fpr_lgbmc = 1-(cmat[0,0]/(cmat[0,0]+cmat[0,1])) #false positive rate"
   ]
  },
  {
   "cell_type": "code",
   "execution_count": 40,
   "id": "fc854108",
   "metadata": {},
   "outputs": [
    {
     "name": "stdout",
     "output_type": "stream",
     "text": [
      "Tha AUC value is:  0.83\n"
     ]
    }
   ],
   "source": [
    "# Area under the ROC curve\n",
    "\n",
    "auc_lgbmc = roc_auc_score(y_test, pd.DataFrame(y_proba_lgbmc)[1])\n",
    "\n",
    "print(\"Tha AUC value is: \", auc_lgbmc.round(2))"
   ]
  },
  {
   "cell_type": "code",
   "execution_count": 41,
   "id": "2b28cc9d",
   "metadata": {},
   "outputs": [
    {
     "data": {
      "image/png": "[encoded data removed]",
      "text/plain": [
       "<Figure size 432x288 with 1 Axes>"
      ]
     },
     "metadata": {
      "needs_background": "light"
     },
     "output_type": "display_data"
    }
   ],
   "source": [
    "# ROC Curve\n",
    "\n",
    "plot_roc(y_test, y_proba_lgbmc, plot_micro = False, plot_macro= False);"
   ]
  },
  {
   "cell_type": "markdown",
   "id": "47821f98",
   "metadata": {},
   "source": [
    "### 4.3 Catboost."
   ]
  },
  {
   "cell_type": "code",
   "execution_count": 42,
   "id": "9a4e6943",
   "metadata": {},
   "outputs": [
    {
     "name": "stdout",
     "output_type": "stream",
     "text": [
      "              precision    recall  f1-score   support\n",
      "\n",
      "           0       0.97      0.90      0.93      8612\n",
      "           1       0.25      0.59      0.35       496\n",
      "\n",
      "    accuracy                           0.88      9108\n",
      "   macro avg       0.61      0.75      0.64      9108\n",
      "weighted avg       0.94      0.88      0.90      9108\n",
      "\n"
     ]
    }
   ],
   "source": [
    "# Classification Report, with various performance indicators\n",
    "\n",
    "print(classification_report(y_test, y_pred_cbc))"
   ]
  },
  {
   "cell_type": "code",
   "execution_count": 43,
   "id": "2bad0f53",
   "metadata": {},
   "outputs": [],
   "source": [
    "# We save certain indicators of interest for later \n",
    "\n",
    "precision_cbc = precision_score(y_test, y_pred_cbc) #precision score\n",
    "recall_cbc = recall_score(y_test, y_pred_cbc) #recall score or true positive rate\n",
    "cmat = confusion_matrix(y_test, y_pred_cbc) #confusion matrix\n",
    "fpr_cbc = 1-(cmat[0,0]/(cmat[0,0]+cmat[0,1])) #false positive rate"
   ]
  },
  {
   "cell_type": "code",
   "execution_count": 44,
   "id": "28527b99",
   "metadata": {},
   "outputs": [
    {
     "name": "stdout",
     "output_type": "stream",
     "text": [
      "Tha AUC value is:  0.82\n"
     ]
    }
   ],
   "source": [
    "# Area under the ROC curve\n",
    "\n",
    "auc_cbc = roc_auc_score(y_test, pd.DataFrame(y_proba_cbc)[1])\n",
    "\n",
    "print(\"Tha AUC value is: \", auc_cbc.round(2))"
   ]
  },
  {
   "cell_type": "code",
   "execution_count": 45,
   "id": "7bd72f3a",
   "metadata": {},
   "outputs": [
    {
     "data": {
      "image/png": "[encoded data removed]",
      "text/plain": [
       "<Figure size 432x288 with 1 Axes>"
      ]
     },
     "metadata": {
      "needs_background": "light"
     },
     "output_type": "display_data"
    }
   ],
   "source": [
    "# ROC Curve\n",
    "\n",
    "plot_roc(y_test, y_proba_cbc, plot_micro = False, plot_macro= False);"
   ]
  },
  {
   "cell_type": "markdown",
   "id": "73d93d00",
   "metadata": {},
   "source": [
    "### 4.4 Summary of Models Performance"
   ]
  },
  {
   "cell_type": "code",
   "execution_count": 46,
   "id": "03bef88e",
   "metadata": {},
   "outputs": [
    {
     "data": {
      "text/html": [
       "<div>\n",
       "<style scoped>\n",
       "    .dataframe tbody tr th:only-of-type {\n",
       "        vertical-align: middle;\n",
       "    }\n",
       "\n",
       "    .dataframe tbody tr th {\n",
       "        vertical-align: top;\n",
       "    }\n",
       "\n",
       "    .dataframe thead th {\n",
       "        text-align: right;\n",
       "    }\n",
       "</style>\n",
       "<table border=\"1\" class=\"dataframe\">\n",
       "  <thead>\n",
       "    <tr style=\"text-align: right;\">\n",
       "      <th></th>\n",
       "      <th>Model</th>\n",
       "      <th>Precision</th>\n",
       "      <th>Recall</th>\n",
       "      <th>FPR</th>\n",
       "    </tr>\n",
       "  </thead>\n",
       "  <tbody>\n",
       "    <tr>\n",
       "      <th>0</th>\n",
       "      <td>XGBClassifier</td>\n",
       "      <td>0.24</td>\n",
       "      <td>0.66</td>\n",
       "      <td>0.12</td>\n",
       "    </tr>\n",
       "    <tr>\n",
       "      <th>1</th>\n",
       "      <td>LGBMClassifier</td>\n",
       "      <td>0.24</td>\n",
       "      <td>0.68</td>\n",
       "      <td>0.12</td>\n",
       "    </tr>\n",
       "    <tr>\n",
       "      <th>2</th>\n",
       "      <td>CatBoostClassifier</td>\n",
       "      <td>0.25</td>\n",
       "      <td>0.59</td>\n",
       "      <td>0.10</td>\n",
       "    </tr>\n",
       "  </tbody>\n",
       "</table>\n",
       "</div>"
      ],
      "text/plain": [
       "                Model  Precision  Recall   FPR\n",
       "0       XGBClassifier       0.24    0.66  0.12\n",
       "1      LGBMClassifier       0.24    0.68  0.12\n",
       "2  CatBoostClassifier       0.25    0.59  0.10"
      ]
     },
     "execution_count": 46,
     "metadata": {},
     "output_type": "execute_result"
    }
   ],
   "source": [
    "# Data Frame with data summarizing evaluation metrics for all models\n",
    "\n",
    "eval_dic = {'Model':['XGBClassifier', 'LGBMClassifier', 'CatBoostClassifier'],\n",
    "            'Precision':[precision_xgbc, precision_lgbmc, precision_cbc],\n",
    "            'Recall':[recall_xgbc, recall_lgbmc, recall_cbc],\n",
    "            'FPR':[fpr_xgbc, fpr_lgbmc, fpr_cbc]}\n",
    "\n",
    "comp_table = pd.DataFrame(eval_dic)\n",
    "comp_table.round(2)"
   ]
  },
  {
   "cell_type": "markdown",
   "id": "5588e368",
   "metadata": {},
   "source": [
    "## 5. Conclusions."
   ]
  },
  {
   "cell_type": "markdown",
   "id": "d2bb21ae",
   "metadata": {},
   "source": [
    "- All models have a similar performance en terms of Precision. **CatBoostClassifier** appears to perform slightly better than the other two: for every 4 calls the model indicates to do (clients predicted to buy the product), 1 will end in a successful sell.\n",
    "- In terms of the Recall metric, both LGBMClassifier and XGBClassifier show a measure proximate to 70%, while CatBoostClassifier only gets to 59%. That means, for example, that **LGBMClassifier** can recognize approximately 7 out of 10 clients potentially willing to buy the fixed-term deposit offered by the bank.\n",
    "- Based on the False Positive Rate, **CatBoostClassifier** performs better than XGBClassifier and LGBMClassifier, which are tied in terms of this metric. In other words, for every 100 clients that are not potentially willing to buy the fixed-term deposit, CatBoostClassifier suggests to contact *only* 10, causing a lower marketing campaign loss than the other two ML algorithms under study, both of which recommend to contact 12 of those 100.\n",
    "- All in all, **CatBoostClassifier** seems to perform better, especially if the decision is made following the Principle of Cost Minimization, that is, minimizing the false positive rate."
   ]
  },
  {
   "cell_type": "markdown",
   "id": "31cead73",
   "metadata": {},
   "source": [
    "## Annex: Feature Importance"
   ]
  },
  {
   "cell_type": "code",
   "execution_count": 47,
   "id": "e6955b29",
   "metadata": {},
   "outputs": [],
   "source": [
    "from xgboost import plot_importance"
   ]
  },
  {
   "cell_type": "code",
   "execution_count": 48,
   "id": "3fad4d3a",
   "metadata": {},
   "outputs": [
    {
     "data": {
      "image/png": "[encoded data removed]",
      "text/plain": [
       "<Figure size 432x288 with 1 Axes>"
      ]
     },
     "metadata": {
      "needs_background": "light"
     },
     "output_type": "display_data"
    }
   ],
   "source": [
    "plot_importance(gscv_xgbc.best_estimator_, height = 0.8,max_num_features=5);"
   ]
  },
  {
   "cell_type": "code",
   "execution_count": 49,
   "id": "4e4749b4",
   "metadata": {},
   "outputs": [
    {
     "data": {
      "image/png": "[encoded data removed]",
      "text/plain": [
       "<Figure size 432x288 with 1 Axes>"
      ]
     },
     "metadata": {
      "needs_background": "light"
     },
     "output_type": "display_data"
    }
   ],
   "source": [
    "lgb.plot_importance(gscv_lgbmc.best_estimator_, height = 0.8,max_num_features=5);"
   ]
  },
  {
   "cell_type": "markdown",
   "id": "3837748c",
   "metadata": {},
   "source": [
    "Most of the selling of fixed-term deposits is determined by the interest rate: That makes sense!"
   ]
  }
 ],
 "metadata": {
  "kernelspec": {
   "display_name": "Python 3",
   "language": "python",
   "name": "python3"
  },
  "language_info": {
   "codemirror_mode": {
    "name": "ipython",
    "version": 3
   },
   "file_extension": ".py",
   "mimetype": "text/x-python",
   "name": "python",
   "nbconvert_exporter": "python",
   "pygments_lexer": "ipython3",
   "version": "3.8.8"
  }
 },
 "nbformat": 4,
 "nbformat_minor": 5
}
